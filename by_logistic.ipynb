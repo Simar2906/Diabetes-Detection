{
 "metadata": {
  "language_info": {
   "codemirror_mode": {
    "name": "ipython",
    "version": 3
   },
   "file_extension": ".py",
   "mimetype": "text/x-python",
   "name": "python",
   "nbconvert_exporter": "python",
   "pygments_lexer": "ipython3",
   "version": 3
  },
  "orig_nbformat": 2,
  "kernelspec": {
   "name": "python_defaultSpec_1595878140185",
   "display_name": "Python 3.8.0 64-bit"
  }
 },
 "nbformat": 4,
 "nbformat_minor": 2,
 "cells": [
  {
   "cell_type": "markdown",
   "metadata": {},
   "source": [
    "## Importing the Libraries"
   ]
  },
  {
   "cell_type": "code",
   "execution_count": 2,
   "metadata": {},
   "outputs": [],
   "source": [
    "import numpy as np\n",
    "import pandas as pd\n",
    "import matplotlib.pyplot as plt"
   ]
  },
  {
   "cell_type": "markdown",
   "metadata": {},
   "source": [
    "## Importing the Dataset"
   ]
  },
  {
   "cell_type": "code",
   "execution_count": 9,
   "metadata": {
    "tags": []
   },
   "outputs": [],
   "source": [
    "X_train = pd.read_csv('Diabetes_XTrain.csv').values\n",
    "X_test = pd.read_csv('Diabetes_Xtest.csv').values\n",
    "y_train = pd.read_csv('Diabetes_YTrain.csv').values"
   ]
  },
  {
   "cell_type": "markdown",
   "metadata": {},
   "source": [
    "## Feature Scaling"
   ]
  },
  {
   "cell_type": "code",
   "execution_count": 11,
   "metadata": {},
   "outputs": [],
   "source": [
    "from sklearn.preprocessing import StandardScaler\n",
    "sc = StandardScaler()\n",
    "X_train = sc.fit_transform(X_train)\n",
    "X_test = sc.transform(X_test)"
   ]
  },
  {
   "cell_type": "markdown",
   "metadata": {},
   "source": [
    "## Training Logistic Regression on Train Set"
   ]
  },
  {
   "cell_type": "code",
   "execution_count": 12,
   "metadata": {},
   "outputs": [
    {
     "output_type": "execute_result",
     "data": {
      "text/plain": "LogisticRegression()"
     },
     "metadata": {},
     "execution_count": 12
    }
   ],
   "source": [
    "from sklearn.linear_model import LogisticRegression\n",
    "classifier = LogisticRegression()\n",
    "classifier.fit(X_train, y_train)"
   ]
  },
  {
   "cell_type": "markdown",
   "metadata": {},
   "source": [
    "## Predicting Test Set Results"
   ]
  },
  {
   "cell_type": "code",
   "execution_count": 13,
   "metadata": {},
   "outputs": [],
   "source": [
    "y_pred = classifier.predict(X_test)"
   ]
  },
  {
   "cell_type": "code",
   "execution_count": 15,
   "metadata": {
    "tags": []
   },
   "outputs": [
    {
     "output_type": "stream",
     "name": "stdout",
     "text": "[[1]\n [0]\n [0]\n [0]\n [0]\n [1]\n [1]\n [0]\n [0]\n [0]\n [1]\n [0]\n [1]\n [0]\n [1]\n [0]\n [0]\n [1]\n [1]\n [1]\n [0]\n [0]\n [0]\n [0]\n [0]\n [0]\n [0]\n [0]\n [0]\n [0]\n [0]\n [0]\n [0]\n [0]\n [0]\n [1]\n [1]\n [1]\n [1]\n [0]\n [1]\n [0]\n [0]\n [0]\n [1]\n [0]\n [0]\n [1]\n [0]\n [1]\n [1]\n [1]\n [0]\n [0]\n [1]\n [0]\n [1]\n [0]\n [0]\n [0]\n [0]\n [0]\n [0]\n [0]\n [1]\n [0]\n [0]\n [0]\n [0]\n [0]\n [0]\n [0]\n [0]\n [0]\n [0]\n [0]\n [0]\n [0]\n [0]\n [0]\n [0]\n [0]\n [0]\n [0]\n [0]\n [0]\n [1]\n [1]\n [0]\n [0]\n [1]\n [1]\n [1]\n [0]\n [1]\n [0]\n [0]\n [0]\n [0]\n [0]\n [1]\n [0]\n [0]\n [0]\n [0]\n [0]\n [0]\n [1]\n [0]\n [0]\n [1]\n [0]\n [1]\n [0]\n [0]\n [1]\n [0]\n [1]\n [0]\n [0]\n [0]\n [0]\n [0]\n [1]\n [0]\n [1]\n [1]\n [0]\n [1]\n [0]\n [0]\n [1]\n [0]\n [0]\n [0]\n [0]\n [1]\n [0]\n [1]\n [0]\n [0]\n [1]\n [1]\n [0]\n [1]\n [0]\n [0]\n [1]\n [0]\n [0]\n [0]\n [0]\n [1]\n [0]\n [0]\n [1]\n [0]\n [1]\n [0]\n [1]\n [1]\n [0]\n [0]\n [0]\n [0]\n [0]\n [0]\n [0]\n [0]\n [0]\n [0]\n [1]\n [0]\n [0]\n [0]\n [0]\n [0]\n [0]\n [0]\n [1]\n [0]\n [0]\n [1]\n [1]\n [1]\n [0]\n [0]\n [0]\n [0]\n [1]\n [0]\n [0]]\n"
    }
   ],
   "source": [
    "print(y_pred.reshape(len(y_pred), 1))"
   ]
  }
 ]
}